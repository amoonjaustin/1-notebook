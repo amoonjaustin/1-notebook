{
 "cells": [
  {
   "cell_type": "markdown",
   "id": "a5698c23-5358-40a7-b873-b3d3d685796b",
   "metadata": {
    "tags": []
   },
   "source": [
    "# Data Science Tools and Ecosystem"
   ]
  },
  {
   "cell_type": "markdown",
   "id": "29dae2c2-3baf-4ded-b6b7-68386ced3965",
   "metadata": {},
   "source": [
    "# Data Science Tools and Ecosystem\n",
    "\n",
    "In this notebook, Data Science Tools and Ecosystem are summarized.\n"
   ]
  },
  {
   "cell_type": "markdown",
   "id": "922b9a82-4a0c-45ed-9c20-e25178d293d4",
   "metadata": {},
   "source": [
    "# Data Science Tools and Ecosystem\n",
    "\n",
    "## Overview:\n",
    "\n",
    "Some of the popular languages that Data Scientists use are:\n",
    "\n",
    "1. **Python**\n",
    "2. **R**\n",
    "3. **SQL**"
   ]
  },
  {
   "cell_type": "markdown",
   "id": "3160e01a-d8c3-4aee-b998-e00e3c4f6bd8",
   "metadata": {},
   "source": [
    "# Data Science Tools and Ecosystem\n",
    "\n",
    "## Overview:\n",
    "\n",
    "Some of the commonly used libraries used by Data Scientists include:\n",
    "\n",
    "1. **NumPy**\n",
    "2. **Pandas**\n",
    "3. **Matplotlib**"
   ]
  },
  {
   "cell_type": "markdown",
   "id": "800a29a9-3a26-4c65-9fd4-1148c64f484f",
   "metadata": {},
   "source": [
    "# Data Science Tools and Ecosystem\n",
    "\n",
    "## Overview:\n",
    "\n",
    "Some of the commonly used libraries used by Data Scientists include:\n",
    "\n",
    "1. **NumPy**\n",
    "2. **Pandas**\n",
    "3. **Matplotlib**\n",
    "\n",
    "## Data Science Tools:\n",
    "\n",
    "| Data Science Tools       |\n",
    "|--------------------------|\n",
    "| Development Environment  |\n",
    "| Jupyter Notebook         |\n",
    "| RStudio                  |\n",
    "| Spyder                   |"
   ]
  },
  {
   "cell_type": "markdown",
   "id": "8cef6d56-0d22-4494-beff-d743d0299a0c",
   "metadata": {},
   "source": [
    "# Data Science Tools and Ecosystem\n",
    "\n",
    "## Overview:\n",
    "\n",
    "Some of the commonly used libraries used by Data Scientists include:\n",
    "\n",
    "1. **NumPy**\n",
    "2. **Pandas**\n",
    "3. **Matplotlib**\n",
    "\n",
    "## Data Science Tools:\n",
    "\n",
    "| Data Science Tools       |\n",
    "|--------------------------|\n",
    "| Development Environment  |\n",
    "| Jupyter Notebook         |\n",
    "| RStudio                  |\n",
    "| Spyder                   |\n",
    "\n",
    "### Below are a few examples of evaluating arithmetic expressions in Python\n"
   ]
  },
  {
   "cell_type": "markdown",
   "id": "8121adaa-ad59-45cd-a525-c6206c2c331d",
   "metadata": {
    "tags": []
   },
   "source": [
    "# This is a simple arithmetic expression to multiply then add integers.\n",
    "result = 17\n"
   ]
  },
  {
   "cell_type": "markdown",
   "id": "08637571-adbe-4aff-9fb0-07aedc239903",
   "metadata": {},
   "source": [
    "# This is a simple arithmetic expression to multiply then add integers.\n",
    "result = 17"
   ]
  },
  {
   "cell_type": "markdown",
   "id": "f803de2e-8333-4605-9cf4-cc8fa91509f2",
   "metadata": {},
   "source": [
    "# This will convert 200 minutes to hours by dividing by 60.\n",
    "hours = 200 / 60\n",
    "hours\n"
   ]
  },
  {
   "cell_type": "markdown",
   "id": "dc095b5b-dda6-4013-83a8-a49c33bc1b96",
   "metadata": {},
   "source": [
    "**Objectives:**\n",
    "\n",
    "- List popular languages for Data Science.\n",
    "- Discuss commonly used libraries in Data Science.\n",
    "- Introduce development environments in Data Science.\n",
    "- Perform simple arithmetic operations in Python.\n",
    "- Convert units of time in Python (e.g., minutes to hours).\n"
   ]
  },
  {
   "cell_type": "markdown",
   "id": "1c7b673d-004d-4e6f-a4cc-f7ba8ff64392",
   "metadata": {},
   "source": [
    "## Author\n",
    "\n",
    "Your Name (replace this with your actual name)\n"
   ]
  },
  {
   "cell_type": "code",
   "execution_count": null,
   "id": "fc8247c6-ac6f-4872-81b3-5eee2a0222dc",
   "metadata": {},
   "outputs": [],
   "source": []
  }
 ],
 "metadata": {
  "kernelspec": {
   "display_name": "Python",
   "language": "python",
   "name": "conda-env-python-py"
  },
  "language_info": {
   "codemirror_mode": {
    "name": "ipython",
    "version": 3
   },
   "file_extension": ".py",
   "mimetype": "text/x-python",
   "name": "python",
   "nbconvert_exporter": "python",
   "pygments_lexer": "ipython3",
   "version": "3.7.12"
  }
 },
 "nbformat": 4,
 "nbformat_minor": 5
}
